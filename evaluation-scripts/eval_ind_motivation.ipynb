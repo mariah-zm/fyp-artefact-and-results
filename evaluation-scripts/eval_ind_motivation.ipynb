{
 "cells": [
  {
   "cell_type": "code",
   "execution_count": 1,
   "id": "10758360",
   "metadata": {},
   "outputs": [],
   "source": [
    "import re\n",
    "import os\n",
    "import pandas as pd\n",
    "import seaborn as sns\n",
    "import scipy.stats as stats\n",
    "import matplotlib.pyplot as plt"
   ]
  },
  {
   "cell_type": "code",
   "execution_count": 2,
   "id": "76006a7c",
   "metadata": {},
   "outputs": [],
   "source": [
    "results_dirs = ['../thesis-university-impl/results/simulation_2023-05-17 15:58:22',\n",
    "                '../thesis-university-impl/results/simulation_2023-05-17 16:50:54',\n",
    "                '../thesis-university-impl/results/simulation_2023-05-17 17:02:55',\n",
    "                '../thesis-university-impl/results/simulation_2023-05-17 17:26:54',\n",
    "                '../thesis-university-impl/results/simulation_2023-05-17 17:30:26']"
   ]
  },
  {
   "cell_type": "code",
   "execution_count": 3,
   "id": "ffeb5d1f",
   "metadata": {},
   "outputs": [],
   "source": [
    "needs_dir = '/needs'"
   ]
  },
  {
   "cell_type": "code",
   "execution_count": 4,
   "id": "51adf0f4",
   "metadata": {},
   "outputs": [],
   "source": [
    "actions = [\"Inactive\", \"Walking\", \"PlayingGame\", \"Eating\", \"DrinkingCoffee\", \n",
    "           \"Studying\", \"Working\", \"WaitingLecture\", \"AttendingLecture\", \"GivingLecture\"]"
   ]
  },
  {
   "cell_type": "code",
   "execution_count": 5,
   "id": "d5689875",
   "metadata": {},
   "outputs": [],
   "source": [
    "def read_csv_files(directory):\n",
    "    dfs = []\n",
    "\n",
    "    for filename in os.listdir(directory):\n",
    "        if filename.endswith('.csv'):\n",
    "            file_path = os.path.join(directory, filename)\n",
    "            df = pd.read_csv(file_path)\n",
    "            dfs.append(df)\n",
    "\n",
    "    return dfs"
   ]
  },
  {
   "cell_type": "code",
   "execution_count": 11,
   "id": "e47b4a4f",
   "metadata": {},
   "outputs": [],
   "source": [
    "def check_need_satisfaction(needs):\n",
    "    satisfaction = []\n",
    "    for agent_needs in needs:\n",
    "        percentages = (agent_needs > 0.35).mean() * 100\n",
    "        satisfaction.append(percentages)\n",
    "        \n",
    "    return satisfaction"
   ]
  },
  {
   "cell_type": "code",
   "execution_count": 12,
   "id": "080ab139",
   "metadata": {},
   "outputs": [],
   "source": [
    "# Read data \n",
    "needs = []\n",
    "for result in results_dirs:\n",
    "    n = read_csv_files(result + needs_dir)\n",
    "    needs.extend(n)"
   ]
  },
  {
   "cell_type": "code",
   "execution_count": 13,
   "id": "ca85d99c",
   "metadata": {},
   "outputs": [
    {
     "data": {
      "text/plain": [
       "energy          75.514225\n",
       "productivity    99.234731\n",
       "fun             90.382984\n",
       "hunger          98.983342\n",
       "dtype: float64"
      ]
     },
     "execution_count": 13,
     "metadata": {},
     "output_type": "execute_result"
    }
   ],
   "source": [
    "percentage_satisfied = check_need_satisfaction(needs)\n",
    "df = pd.DataFrame(percentage_satisfied)\n",
    "df.mean()"
   ]
  },
  {
   "cell_type": "code",
   "execution_count": null,
   "id": "4526fecc",
   "metadata": {},
   "outputs": [],
   "source": []
  }
 ],
 "metadata": {
  "kernelspec": {
   "display_name": "Python 3 (ipykernel)",
   "language": "python",
   "name": "python3"
  },
  "language_info": {
   "codemirror_mode": {
    "name": "ipython",
    "version": 3
   },
   "file_extension": ".py",
   "mimetype": "text/x-python",
   "name": "python",
   "nbconvert_exporter": "python",
   "pygments_lexer": "ipython3",
   "version": "3.10.9"
  }
 },
 "nbformat": 4,
 "nbformat_minor": 5
}
