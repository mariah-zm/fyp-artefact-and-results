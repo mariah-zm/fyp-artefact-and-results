{
 "cells": [
  {
   "cell_type": "code",
   "execution_count": 63,
   "id": "a39a95a1",
   "metadata": {},
   "outputs": [],
   "source": [
    "import re\n",
    "import os\n",
    "import numpy as np\n",
    "import pandas as pd\n",
    "import seaborn as sns\n",
    "import scipy.stats as stats\n",
    "import matplotlib.pyplot as plt"
   ]
  },
  {
   "cell_type": "code",
   "execution_count": 64,
   "id": "7a6dabb7",
   "metadata": {},
   "outputs": [],
   "source": [
    "results_dirs = ['../thesis-university-impl/results/simulation_2023-05-17 15:58:22',\n",
    "                '../thesis-university-impl/results/simulation_2023-05-17 16:50:54',\n",
    "                '../thesis-university-impl/results/simulation_2023-05-17 17:02:55',\n",
    "                '../thesis-university-impl/results/simulation_2023-05-17 17:26:54',\n",
    "                '../thesis-university-impl/results/simulation_2023-05-17 17:30:26']"
   ]
  },
  {
   "cell_type": "code",
   "execution_count": 65,
   "id": "6fb879de",
   "metadata": {},
   "outputs": [],
   "source": [
    "needs_dir = '/needs'\n",
    "metadata_path = '/meta.csv'\n",
    "calendar_path = '/calendar.txt'\n",
    "positions_path = '/positions.txt'\n",
    "traces_path = '/traces.txt'"
   ]
  },
  {
   "cell_type": "code",
   "execution_count": 66,
   "id": "4da9dfb9",
   "metadata": {},
   "outputs": [],
   "source": [
    "actions = [\"Inactive\", \"Walking\", \"PlayingGame\", \"Eating\", \"DrinkingCoffee\", \n",
    "           \"Studying\", \"Working\", \"WaitingLecture\", \"AttendingLecture\", \"GivingLecture\"]"
   ]
  },
  {
   "cell_type": "code",
   "execution_count": 67,
   "id": "934f877c",
   "metadata": {},
   "outputs": [],
   "source": [
    "lectures = [\"Computer Logic Lecture\", \"Data Structures and Algorithms Lecture\", \"Software Engineering Lecture\", \n",
    "            \"Microbiology Lecture\", \"Pharmacology Lecture\", \"Cell Biology and Biochemistry Lecture\",\n",
    "           \"Introduction to Law Lecture\", \"European Law\",\n",
    "           \"Foundations and Applications of Economics Lecture\", \"Business Statistics Lecture\"]\n"
   ]
  },
  {
   "cell_type": "code",
   "execution_count": 68,
   "id": "f13fd6e8",
   "metadata": {},
   "outputs": [],
   "source": [
    "def sample_time_to_real(sample_time, time_step):\n",
    "    return (time_step*sample_time) / (60*60)"
   ]
  },
  {
   "cell_type": "code",
   "execution_count": 69,
   "id": "58d534ac",
   "metadata": {},
   "outputs": [],
   "source": [
    "def read_csv_files(directory):\n",
    "    dfs = []\n",
    "\n",
    "    for filename in os.listdir(directory):\n",
    "        if filename.endswith('.csv'):\n",
    "            file_path = os.path.join(directory, filename)\n",
    "            df = pd.read_csv(file_path)\n",
    "            dfs.append(df)\n",
    "\n",
    "    return dfs"
   ]
  },
  {
   "cell_type": "code",
   "execution_count": 70,
   "id": "751b5b07",
   "metadata": {},
   "outputs": [],
   "source": [
    "def parse_behavioral_traces(file_path):\n",
    "    traces = []\n",
    "    \n",
    "    with open(file_path, 'r') as file:\n",
    "        for line in file:\n",
    "            line = line.strip()\n",
    "            trace = []\n",
    "            matches = re.findall(r'\\[([\\w\\d]+)\\(([\\w\\d\\s.,]*)\\)](\\d+)', line)\n",
    "\n",
    "            start_time = 0\n",
    "            for match in matches:\n",
    "                action_name = match[0]\n",
    "                components = match[1].split(',') if match[1] else []\n",
    "                duration = int(match[2])\n",
    "                \n",
    "                end_time = start_time + duration - 1\n",
    "                action = {\n",
    "                    'name': action_name,\n",
    "                    'components': components,\n",
    "                    'duration': duration,\n",
    "                    'start': start_time,\n",
    "                    'end': end_time\n",
    "                }\n",
    "                \n",
    "                trace.append(action)\n",
    "                start_time = end_time + 1\n",
    "            \n",
    "            traces.append(trace)\n",
    "    \n",
    "    return traces"
   ]
  },
  {
   "cell_type": "code",
   "execution_count": 71,
   "id": "953a45c1",
   "metadata": {},
   "outputs": [],
   "source": [
    "def extract_task_names(calendar_file):\n",
    "    task_names = []\n",
    "\n",
    "    # Read the calendar file and extract task names for each agent\n",
    "    with open(calendar_file, 'r') as file:\n",
    "        for line in file:\n",
    "            line = line.strip()\n",
    "            agent_tasks = []\n",
    "            tasks = line.split(',')\n",
    "\n",
    "            for task in tasks:\n",
    "                if task:\n",
    "                    task_name = task.split(': ')[1]\n",
    "                    agent_tasks.append(task_name)\n",
    "\n",
    "            task_names.append(agent_tasks)\n",
    "\n",
    "    return task_names"
   ]
  },
  {
   "cell_type": "code",
   "execution_count": 108,
   "id": "063b4212",
   "metadata": {},
   "outputs": [],
   "source": [
    "def check_attended_lectures(traces, tasks):\n",
    "    waited = []\n",
    "    attended = []\n",
    "    \n",
    "    for i in range(0, len(traces)):\n",
    "        wait = []\n",
    "        att = []\n",
    "        \n",
    "        for trace in traces[i]:\n",
    "            if trace['name'] == 'WaitingLecture':\n",
    "                lecture = trace['components'][0]\n",
    "                if lecture in tasks[i]:\n",
    "                    wait.append(lecture)\n",
    "                    \n",
    "            if trace['name'] == 'AttendingLecture':\n",
    "                lecture = trace['components'][0]\n",
    "                if lecture in tasks[i]:\n",
    "                    att.append(lecture)\n",
    "        \n",
    "        waited.append(wait)\n",
    "        attended.append(att)\n",
    "    \n",
    "    return waited, attended"
   ]
  },
  {
   "cell_type": "code",
   "execution_count": 109,
   "id": "94a0d1a0",
   "metadata": {},
   "outputs": [],
   "source": [
    "def calculate_lecture_attendance(scheduled_lectures, waited_lectures, attended_lectures, all_lectures):\n",
    "    lecture_attendance = {lecture: 0 for lecture in all_lectures}\n",
    "    lecture_waited_attendance = {lecture: 0 for lecture in all_lectures}\n",
    "    lecture_actual_attendance = {lecture: 0 for lecture in all_lectures}\n",
    "\n",
    "    for agent_scheduled, agent_waited, agent_attended in zip(scheduled_lectures, waited_lectures, attended_lectures):\n",
    "        for lecture in agent_scheduled:\n",
    "            lecture_attendance[lecture] += 1\n",
    "            if lecture in agent_waited:\n",
    "                lecture_waited_attendance[lecture] += 1\n",
    "            if lecture in agent_attended:\n",
    "                lecture_actual_attendance[lecture] += 1\n",
    "\n",
    "    return lecture_attendance, lecture_waited_attendance, lecture_actual_attendance"
   ]
  },
  {
   "cell_type": "code",
   "execution_count": 89,
   "id": "1aca1e8e",
   "metadata": {},
   "outputs": [],
   "source": [
    "# Read data \n",
    "metadata = []\n",
    "traces = []\n",
    "\n",
    "for results in results_dirs:\n",
    "    meta = pd.read_csv(results + metadata_path)\n",
    "    tcs = parse_behavioral_traces(results + traces_path)\n",
    "    \n",
    "    metadata.append(meta)\n",
    "    traces.append(tcs)"
   ]
  },
  {
   "cell_type": "code",
   "execution_count": 90,
   "id": "05854e85",
   "metadata": {},
   "outputs": [],
   "source": [
    "# New dataframe to contain duration of each action\n",
    "new_metadata = []\n",
    "\n",
    "for meta in metadata:\n",
    "    new_meta = pd.DataFrame.copy(meta)\n",
    "    for action in actions:\n",
    "        new_meta[action] = 0\n",
    "    new_meta['total_time_active'] = 0\n",
    "    new_meta.at['sequence_length'] = 0\n",
    "    new_metadata.append(new_meta)"
   ]
  },
  {
   "cell_type": "code",
   "execution_count": 91,
   "id": "5f58971a",
   "metadata": {},
   "outputs": [],
   "source": [
    "# Calculate duration for each action \n",
    "for tcs, meta in zip(traces, new_metadata):\n",
    "    for i in range(0, len(tcs)):\n",
    "        for action in tcs[i]:\n",
    "            action_name = action['name']\n",
    "            duration = action['duration']\n",
    "\n",
    "            meta.at[i, action_name] += duration\n",
    "            meta.at[i, 'total_time_active'] += duration if action_name != \"Inactive\" else 0\n",
    "        meta.at[i, 'sequence_length'] = len(tcs[i])"
   ]
  },
  {
   "cell_type": "code",
   "execution_count": 92,
   "id": "d9d3d1de",
   "metadata": {},
   "outputs": [],
   "source": [
    "# students_metadata = new_metadata[new_metadata['type'] == 'student'].copy().drop(['workaholic', \"Working\", \"GivingLecture\"], axis=1)\n",
    "# admin_metadata = new_metadata[new_metadata['type'] == 'admin'].copy().drop(['driven', \"Studying\", \"AttendingLecture\"], axis=1)\n",
    "# professors_metadata = new_metadata[new_metadata['type'] == 'professor'].copy().drop(['driven', \"Studying\", \"AttendingLecture\"], axis=1)"
   ]
  },
  {
   "cell_type": "code",
   "execution_count": 110,
   "id": "8940e6ef",
   "metadata": {},
   "outputs": [],
   "source": [
    "def calculate_attendance(expected, actual):\n",
    "    percentages = {}\n",
    "    for key in expected:\n",
    "        if key in actual:\n",
    "            percentage = (actual[key] / expected[key]) * 100\n",
    "            percentages[key] = percentage\n",
    "    return percentages"
   ]
  },
  {
   "cell_type": "code",
   "execution_count": 111,
   "id": "aa99955c",
   "metadata": {},
   "outputs": [],
   "source": [
    "def calculate_average(dictionary):\n",
    "    values = [value for value in dictionary.values() if value > 0]\n",
    "    total = sum(values)\n",
    "    count = len(values)\n",
    "    average = total / count\n",
    "    return average"
   ]
  },
  {
   "cell_type": "code",
   "execution_count": 116,
   "id": "a778f8cc",
   "metadata": {},
   "outputs": [
    {
     "name": "stdout",
     "output_type": "stream",
     "text": [
      "{'Computer Logic Lecture': 84.21052631578947, 'Data Structures and Algorithms Lecture': 82.27848101265823, 'Software Engineering Lecture': 0.0, 'Microbiology Lecture': 0.0, 'Pharmacology Lecture': 80.0, 'Cell Biology and Biochemistry Lecture': 84.61538461538461, 'Introduction to Law Lecture': 82.17821782178217, 'European Law': 80.76923076923077, 'Foundations and Applications of Economics Lecture': 80.61224489795919, 'Business Statistics Lecture': 83.50515463917526}\n",
      "{'Computer Logic Lecture': 85.5072463768116, 'Data Structures and Algorithms Lecture': 80.82191780821918, 'Software Engineering Lecture': 0.0, 'Microbiology Lecture': 0.0, 'Pharmacology Lecture': 86.81318681318682, 'Cell Biology and Biochemistry Lecture': 0.0, 'Introduction to Law Lecture': 0.0, 'European Law': 68.83116883116884, 'Foundations and Applications of Economics Lecture': 83.78378378378379, 'Business Statistics Lecture': 78.88888888888889}\n",
      "{'Computer Logic Lecture': 84.05797101449275, 'Data Structures and Algorithms Lecture': 73.49397590361446, 'Software Engineering Lecture': 75.32467532467533, 'Microbiology Lecture': 0.0, 'Pharmacology Lecture': 0.0, 'Cell Biology and Biochemistry Lecture': 86.25, 'Introduction to Law Lecture': 87.38738738738738, 'European Law': 77.22772277227723, 'Foundations and Applications of Economics Lecture': 83.14606741573034, 'Business Statistics Lecture': 77.92207792207793}\n",
      "{'Computer Logic Lecture': 87.20930232558139, 'Data Structures and Algorithms Lecture': 79.7752808988764, 'Software Engineering Lecture': 79.12087912087912, 'Microbiology Lecture': 0.0, 'Pharmacology Lecture': 91.25, 'Cell Biology and Biochemistry Lecture': 90.0, 'Introduction to Law Lecture': 0.0, 'European Law': 76.04166666666666, 'Foundations and Applications of Economics Lecture': 0.0, 'Business Statistics Lecture': 87.75510204081633}\n",
      "{'Computer Logic Lecture': 89.58333333333334, 'Data Structures and Algorithms Lecture': 88.23529411764706, 'Software Engineering Lecture': 83.13253012048193, 'Microbiology Lecture': 0.0, 'Pharmacology Lecture': 86.41975308641975, 'Cell Biology and Biochemistry Lecture': 85.71428571428571, 'Introduction to Law Lecture': 83.49514563106796, 'European Law': 74.4186046511628, 'Foundations and Applications of Economics Lecture': 90.9090909090909, 'Business Statistics Lecture': 86.02150537634408}\n"
     ]
    },
    {
     "data": {
      "text/plain": [
       "[82.27115500899745,\n",
       " 80.77436541700985,\n",
       " 80.60123471753194,\n",
       " 84.45031872183141,\n",
       " 85.32550477109261]"
      ]
     },
     "execution_count": 116,
     "metadata": {},
     "output_type": "execute_result"
    }
   ],
   "source": [
    "percentages = []\n",
    "for result, meta, tcs in zip(results_dirs, new_metadata, traces):\n",
    "    students_metadata = meta[meta['type'] == 'student'].copy().drop(['workaholic', \"Working\", \"GivingLecture\"], axis=1)\n",
    "\n",
    "    agent_tasks = extract_task_names(result + calendar_path)\n",
    "    waited, attended = check_attended_lectures(tcs, agent_tasks)\n",
    "    \n",
    "#     students_metadata['#lectures_scheduled'] = [len(l) for l in agent_tasks[:600]]\n",
    "#     students_metadata['#lectures_waited'] = [len(l) for l in waited[:600]]\n",
    "#     students_metadata['#lectures_attended'] = [len(l) for l in attended[:600]]\n",
    "    \n",
    "    expected, wait, actual = calculate_lecture_attendance(agent_tasks[:600], waited[:600], attended[:600], lectures)\n",
    "    \n",
    "    \n",
    "    total = calculate_attendance(expected, actual)\n",
    "    \n",
    "    print(total)\n",
    "    \n",
    "    p = calculate_average(total)\n",
    "    percentages.append(p)\n",
    "\n",
    "percentages"
   ]
  },
  {
   "cell_type": "code",
   "execution_count": 115,
   "id": "f4d39796",
   "metadata": {},
   "outputs": [
    {
     "data": {
      "text/plain": [
       "82.68451572729265"
      ]
     },
     "execution_count": 115,
     "metadata": {},
     "output_type": "execute_result"
    }
   ],
   "source": [
    "np.mean(percentages)"
   ]
  },
  {
   "cell_type": "code",
   "execution_count": 113,
   "id": "0b2f11ab",
   "metadata": {
    "scrolled": true
   },
   "outputs": [
    {
     "data": {
      "text/plain": [
       "{'Computer Logic Lecture': 89.58333333333334,\n",
       " 'Data Structures and Algorithms Lecture': 88.23529411764706,\n",
       " 'Software Engineering Lecture': 83.13253012048193,\n",
       " 'Microbiology Lecture': 0.0,\n",
       " 'Pharmacology Lecture': 86.41975308641975,\n",
       " 'Cell Biology and Biochemistry Lecture': 85.71428571428571,\n",
       " 'Introduction to Law Lecture': 83.49514563106796,\n",
       " 'European Law': 74.4186046511628,\n",
       " 'Foundations and Applications of Economics Lecture': 90.9090909090909,\n",
       " 'Business Statistics Lecture': 86.02150537634408}"
      ]
     },
     "execution_count": 113,
     "metadata": {},
     "output_type": "execute_result"
    }
   ],
   "source": [
    "total = calculate_attendance(expected, actual)\n",
    "total"
   ]
  },
  {
   "cell_type": "code",
   "execution_count": 29,
   "id": "0a545e94",
   "metadata": {},
   "outputs": [
    {
     "data": {
      "text/plain": [
       "78.79826873404204"
      ]
     },
     "execution_count": 29,
     "metadata": {},
     "output_type": "execute_result"
    }
   ],
   "source": [
    "calculate_average(total)"
   ]
  },
  {
   "cell_type": "code",
   "execution_count": 30,
   "id": "a58d1de0",
   "metadata": {},
   "outputs": [
    {
     "name": "stdout",
     "output_type": "stream",
     "text": [
      "Percentage of students attended all their scheduled lectures: 63.00%\n",
      "Percentage of students attended none of their scheduled lectures: 25.00%\n",
      "Percentage of students who missed only one of their scheduled lectures: 11.83%\n"
     ]
    }
   ],
   "source": [
    "df = students_metadata\n",
    "total_students = len(df)\n",
    "\n",
    "attended_all = len(df[(df['#lectures_scheduled'] > 0) & (df['#lectures_scheduled'] == df['#lectures_attended'])])\n",
    "percentage_attended_all = (attended_all / total_students) * 100\n",
    "\n",
    "attended_none = len(df[df['#lectures_attended'] == 0])\n",
    "percentage_attended_none = (attended_none / total_students) * 100\n",
    "\n",
    "attended_one_or_two = len(df[((df['#lectures_scheduled'] - df['#lectures_attended']) == 1) & (df['#lectures_attended'] > 0)])\n",
    "percentage_attended_one_or_two = (attended_one_or_two / total_students) * 100\n",
    "\n",
    "print(\"Percentage of students attended all their scheduled lectures: {:.2f}%\".format(percentage_attended_all))\n",
    "print(\"Percentage of students attended none of their scheduled lectures: {:.2f}%\".format(percentage_attended_none))\n",
    "print(\"Percentage of students who missed only one of their scheduled lectures: {:.2f}%\".format(percentage_attended_one_or_two))\n"
   ]
  },
  {
   "cell_type": "code",
   "execution_count": null,
   "id": "7e11fb90",
   "metadata": {},
   "outputs": [],
   "source": []
  }
 ],
 "metadata": {
  "kernelspec": {
   "display_name": "Python 3 (ipykernel)",
   "language": "python",
   "name": "python3"
  },
  "language_info": {
   "codemirror_mode": {
    "name": "ipython",
    "version": 3
   },
   "file_extension": ".py",
   "mimetype": "text/x-python",
   "name": "python",
   "nbconvert_exporter": "python",
   "pygments_lexer": "ipython3",
   "version": "3.10.9"
  }
 },
 "nbformat": 4,
 "nbformat_minor": 5
}
